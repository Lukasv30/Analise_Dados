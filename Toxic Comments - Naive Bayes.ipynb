{
 "cells": [
  {
   "cell_type": "markdown",
   "id": "9d5d0112-ae2a-4d04-ac05-468e707db824",
   "metadata": {},
   "source": [
    "**Naive Bayes - Toxic Comment Classification**\n",
    "==========="
   ]
  },
  {
   "cell_type": "markdown",
   "id": "5ab0c1bb-c8c6-45c8-8279-72d1c5af63e4",
   "metadata": {},
   "source": [
    "**Extracts kagle database by author DATAISTA0 (JULIÁN PELLER) . licensed by CC0: Public Domain**\n",
    "\n",
    "https://www.kaggle.com/datasets/julian3833/jigsaw-toxic-comment-classification-challenge\n",
    "\n",
    "By Lucas Victor Silva."
   ]
  },
  {
   "cell_type": "code",
   "execution_count": 45,
   "id": "89b6b6e6-93d0-45f6-a0f0-4ae9a0d7a724",
   "metadata": {},
   "outputs": [
    {
     "name": "stdout",
     "output_type": "stream",
     "text": [
      "Requirement already satisfied: scikit-learn in c:\\users\\lucas\\anaconda3\\lib\\site-packages (1.2.1)\n",
      "Requirement already satisfied: joblib>=1.1.1 in c:\\users\\lucas\\anaconda3\\lib\\site-packages (from scikit-learn) (1.1.1)\n",
      "Requirement already satisfied: scipy>=1.3.2 in c:\\users\\lucas\\anaconda3\\lib\\site-packages (from scikit-learn) (1.10.0)\n",
      "Requirement already satisfied: threadpoolctl>=2.0.0 in c:\\users\\lucas\\anaconda3\\lib\\site-packages (from scikit-learn) (2.2.0)\n",
      "Requirement already satisfied: numpy>=1.17.3 in c:\\users\\lucas\\anaconda3\\lib\\site-packages (from scikit-learn) (1.23.5)\n"
     ]
    },
    {
     "data": {
      "text/html": [
       "<div>\n",
       "<style scoped>\n",
       "    .dataframe tbody tr th:only-of-type {\n",
       "        vertical-align: middle;\n",
       "    }\n",
       "\n",
       "    .dataframe tbody tr th {\n",
       "        vertical-align: top;\n",
       "    }\n",
       "\n",
       "    .dataframe thead th {\n",
       "        text-align: right;\n",
       "    }\n",
       "</style>\n",
       "<table border=\"1\" class=\"dataframe\">\n",
       "  <thead>\n",
       "    <tr style=\"text-align: right;\">\n",
       "      <th></th>\n",
       "      <th>id</th>\n",
       "      <th>comment_text</th>\n",
       "      <th>toxic</th>\n",
       "      <th>severe_toxic</th>\n",
       "      <th>obscene</th>\n",
       "      <th>threat</th>\n",
       "      <th>insult</th>\n",
       "      <th>identity_hate</th>\n",
       "    </tr>\n",
       "  </thead>\n",
       "  <tbody>\n",
       "    <tr>\n",
       "      <th>0</th>\n",
       "      <td>0000997932d777bf</td>\n",
       "      <td>Explanation\\nWhy the edits made under my usern...</td>\n",
       "      <td>0</td>\n",
       "      <td>0</td>\n",
       "      <td>0</td>\n",
       "      <td>0</td>\n",
       "      <td>0</td>\n",
       "      <td>0</td>\n",
       "    </tr>\n",
       "    <tr>\n",
       "      <th>1</th>\n",
       "      <td>000103f0d9cfb60f</td>\n",
       "      <td>D'aww! He matches this background colour I'm s...</td>\n",
       "      <td>0</td>\n",
       "      <td>0</td>\n",
       "      <td>0</td>\n",
       "      <td>0</td>\n",
       "      <td>0</td>\n",
       "      <td>0</td>\n",
       "    </tr>\n",
       "    <tr>\n",
       "      <th>2</th>\n",
       "      <td>000113f07ec002fd</td>\n",
       "      <td>Hey man, I'm really not trying to edit war. It...</td>\n",
       "      <td>0</td>\n",
       "      <td>0</td>\n",
       "      <td>0</td>\n",
       "      <td>0</td>\n",
       "      <td>0</td>\n",
       "      <td>0</td>\n",
       "    </tr>\n",
       "    <tr>\n",
       "      <th>3</th>\n",
       "      <td>0001b41b1c6bb37e</td>\n",
       "      <td>\"\\nMore\\nI can't make any real suggestions on ...</td>\n",
       "      <td>0</td>\n",
       "      <td>0</td>\n",
       "      <td>0</td>\n",
       "      <td>0</td>\n",
       "      <td>0</td>\n",
       "      <td>0</td>\n",
       "    </tr>\n",
       "    <tr>\n",
       "      <th>4</th>\n",
       "      <td>0001d958c54c6e35</td>\n",
       "      <td>You, sir, are my hero. Any chance you remember...</td>\n",
       "      <td>0</td>\n",
       "      <td>0</td>\n",
       "      <td>0</td>\n",
       "      <td>0</td>\n",
       "      <td>0</td>\n",
       "      <td>0</td>\n",
       "    </tr>\n",
       "    <tr>\n",
       "      <th>...</th>\n",
       "      <td>...</td>\n",
       "      <td>...</td>\n",
       "      <td>...</td>\n",
       "      <td>...</td>\n",
       "      <td>...</td>\n",
       "      <td>...</td>\n",
       "      <td>...</td>\n",
       "      <td>...</td>\n",
       "    </tr>\n",
       "    <tr>\n",
       "      <th>95</th>\n",
       "      <td>003b9f448ee4a29d</td>\n",
       "      <td>\"\\n\\nThanks. I can see that violating clearly ...</td>\n",
       "      <td>0</td>\n",
       "      <td>0</td>\n",
       "      <td>0</td>\n",
       "      <td>0</td>\n",
       "      <td>0</td>\n",
       "      <td>0</td>\n",
       "    </tr>\n",
       "    <tr>\n",
       "      <th>96</th>\n",
       "      <td>003bd094feef5263</td>\n",
       "      <td>\"\\nHi\\nThanks for our kind words. See you arou...</td>\n",
       "      <td>0</td>\n",
       "      <td>0</td>\n",
       "      <td>0</td>\n",
       "      <td>0</td>\n",
       "      <td>0</td>\n",
       "      <td>0</td>\n",
       "    </tr>\n",
       "    <tr>\n",
       "      <th>97</th>\n",
       "      <td>003caacc6ce6c9e9</td>\n",
       "      <td>Collusion in poker \\n\\nThis is regarded as mos...</td>\n",
       "      <td>0</td>\n",
       "      <td>0</td>\n",
       "      <td>0</td>\n",
       "      <td>0</td>\n",
       "      <td>0</td>\n",
       "      <td>0</td>\n",
       "    </tr>\n",
       "    <tr>\n",
       "      <th>98</th>\n",
       "      <td>003d77a20601cec1</td>\n",
       "      <td>Thanks much - however, if it's been resolved, ...</td>\n",
       "      <td>0</td>\n",
       "      <td>0</td>\n",
       "      <td>0</td>\n",
       "      <td>0</td>\n",
       "      <td>0</td>\n",
       "      <td>0</td>\n",
       "    </tr>\n",
       "    <tr>\n",
       "      <th>99</th>\n",
       "      <td>003dbd1b9b354c1f</td>\n",
       "      <td>You can do all you're doing right now but if y...</td>\n",
       "      <td>0</td>\n",
       "      <td>0</td>\n",
       "      <td>0</td>\n",
       "      <td>0</td>\n",
       "      <td>0</td>\n",
       "      <td>0</td>\n",
       "    </tr>\n",
       "  </tbody>\n",
       "</table>\n",
       "<p>100 rows × 8 columns</p>\n",
       "</div>"
      ],
      "text/plain": [
       "                  id                                       comment_text  \\\n",
       "0   0000997932d777bf  Explanation\\nWhy the edits made under my usern...   \n",
       "1   000103f0d9cfb60f  D'aww! He matches this background colour I'm s...   \n",
       "2   000113f07ec002fd  Hey man, I'm really not trying to edit war. It...   \n",
       "3   0001b41b1c6bb37e  \"\\nMore\\nI can't make any real suggestions on ...   \n",
       "4   0001d958c54c6e35  You, sir, are my hero. Any chance you remember...   \n",
       "..               ...                                                ...   \n",
       "95  003b9f448ee4a29d  \"\\n\\nThanks. I can see that violating clearly ...   \n",
       "96  003bd094feef5263  \"\\nHi\\nThanks for our kind words. See you arou...   \n",
       "97  003caacc6ce6c9e9  Collusion in poker \\n\\nThis is regarded as mos...   \n",
       "98  003d77a20601cec1  Thanks much - however, if it's been resolved, ...   \n",
       "99  003dbd1b9b354c1f  You can do all you're doing right now but if y...   \n",
       "\n",
       "    toxic  severe_toxic  obscene  threat  insult  identity_hate  \n",
       "0       0             0        0       0       0              0  \n",
       "1       0             0        0       0       0              0  \n",
       "2       0             0        0       0       0              0  \n",
       "3       0             0        0       0       0              0  \n",
       "4       0             0        0       0       0              0  \n",
       "..    ...           ...      ...     ...     ...            ...  \n",
       "95      0             0        0       0       0              0  \n",
       "96      0             0        0       0       0              0  \n",
       "97      0             0        0       0       0              0  \n",
       "98      0             0        0       0       0              0  \n",
       "99      0             0        0       0       0              0  \n",
       "\n",
       "[100 rows x 8 columns]"
      ]
     },
     "execution_count": 45,
     "metadata": {},
     "output_type": "execute_result"
    }
   ],
   "source": [
    "!pip install scikit-learn\n",
    "import numpy as np\n",
    "import pandas as pd\n",
    "import matplotlib.pyplot as plt\n",
    "import seaborn as sns\n",
    "from sklearn.model_selection import train_test_split\n",
    "from sklearn.naive_bayes import GaussianNB\n",
    "from sklearn.metrics import accuracy_score, classification_report, confusion_matrix\n",
    "from sklearn.feature_extraction.text import TfidfVectorizer\n",
    "\n",
    "df = pd.read_csv(r'C:\\Users\\lucas\\Downloads\\2023.2\\Intro Data Science\\EE1\\EE1 - Naive Bayes\\train.csv')\n",
    "df.head(100)"
   ]
  },
  {
   "cell_type": "markdown",
   "id": "d09650f8-bbbf-40d5-a2e1-aaf2d1d3bba7",
   "metadata": {},
   "source": [
    "**Treinamento**\n",
    "==========="
   ]
  },
  {
   "cell_type": "markdown",
   "id": "4521c548-3571-43a4-9b09-2ca5c02b380c",
   "metadata": {},
   "source": [
    "**Transformando os dados de test em colunas binárias, onde Tóxico = 1 e Não Tóxico = 0**\n",
    "==========="
   ]
  },
  {
   "cell_type": "code",
   "execution_count": 47,
   "id": "84080ce0-48f7-4d7a-b793-2e38655ddba8",
   "metadata": {},
   "outputs": [
    {
     "data": {
      "text/html": [
       "<div>\n",
       "<style scoped>\n",
       "    .dataframe tbody tr th:only-of-type {\n",
       "        vertical-align: middle;\n",
       "    }\n",
       "\n",
       "    .dataframe tbody tr th {\n",
       "        vertical-align: top;\n",
       "    }\n",
       "\n",
       "    .dataframe thead th {\n",
       "        text-align: right;\n",
       "    }\n",
       "</style>\n",
       "<table border=\"1\" class=\"dataframe\">\n",
       "  <thead>\n",
       "    <tr style=\"text-align: right;\">\n",
       "      <th></th>\n",
       "      <th>text</th>\n",
       "      <th>y</th>\n",
       "    </tr>\n",
       "  </thead>\n",
       "  <tbody>\n",
       "    <tr>\n",
       "      <th>146801</th>\n",
       "      <td>\"\\n\\nBehinderte Russen: Meaning \"\"Retarded Rus...</td>\n",
       "      <td>1</td>\n",
       "    </tr>\n",
       "    <tr>\n",
       "      <th>54837</th>\n",
       "      <td>Bits of stuff removed here</td>\n",
       "      <td>0</td>\n",
       "    </tr>\n",
       "    <tr>\n",
       "      <th>126295</th>\n",
       "      <td>\"\\n\\n I'm glad you enjoy my comments. \\n\\nI'm ...</td>\n",
       "      <td>0</td>\n",
       "    </tr>\n",
       "    <tr>\n",
       "      <th>51618</th>\n",
       "      <td>I realise that, but maybe it would be worth re...</td>\n",
       "      <td>0</td>\n",
       "    </tr>\n",
       "    <tr>\n",
       "      <th>146183</th>\n",
       "      <td>April .... are you gay?\\n\\nIf you block or del...</td>\n",
       "      <td>1</td>\n",
       "    </tr>\n",
       "    <tr>\n",
       "      <th>...</th>\n",
       "      <td>...</td>\n",
       "      <td>...</td>\n",
       "    </tr>\n",
       "    <tr>\n",
       "      <th>117659</th>\n",
       "      <td>Look at the history -)  12:10, 16 Dec 2004 (UTC)</td>\n",
       "      <td>0</td>\n",
       "    </tr>\n",
       "    <tr>\n",
       "      <th>138971</th>\n",
       "      <td>Ahhh, the meatpuppetry acting. This should be ...</td>\n",
       "      <td>0</td>\n",
       "    </tr>\n",
       "    <tr>\n",
       "      <th>49434</th>\n",
       "      <td>\"\\n\\n Please do not remove content from pages ...</td>\n",
       "      <td>0</td>\n",
       "    </tr>\n",
       "    <tr>\n",
       "      <th>156996</th>\n",
       "      <td>\"\\nNot quite, TFD. My dispute with them is tha...</td>\n",
       "      <td>0</td>\n",
       "    </tr>\n",
       "    <tr>\n",
       "      <th>52392</th>\n",
       "      <td>I appreciate your advice.Have you ever conside...</td>\n",
       "      <td>0</td>\n",
       "    </tr>\n",
       "  </tbody>\n",
       "</table>\n",
       "<p>100 rows × 2 columns</p>\n",
       "</div>"
      ],
      "text/plain": [
       "                                                     text  y\n",
       "146801  \"\\n\\nBehinderte Russen: Meaning \"\"Retarded Rus...  1\n",
       "54837                          Bits of stuff removed here  0\n",
       "126295  \"\\n\\n I'm glad you enjoy my comments. \\n\\nI'm ...  0\n",
       "51618   I realise that, but maybe it would be worth re...  0\n",
       "146183  April .... are you gay?\\n\\nIf you block or del...  1\n",
       "...                                                   ... ..\n",
       "117659   Look at the history -)  12:10, 16 Dec 2004 (UTC)  0\n",
       "138971  Ahhh, the meatpuppetry acting. This should be ...  0\n",
       "49434   \"\\n\\n Please do not remove content from pages ...  0\n",
       "156996  \"\\nNot quite, TFD. My dispute with them is tha...  0\n",
       "52392   I appreciate your advice.Have you ever conside...  0\n",
       "\n",
       "[100 rows x 2 columns]"
      ]
     },
     "execution_count": 47,
     "metadata": {},
     "output_type": "execute_result"
    }
   ],
   "source": [
    "df['y'] = (df[['toxic', 'severe_toxic', 'obscene', 'threat', 'insult', 'identity_hate']].sum(axis=1) > 0 ).astype(int)\n",
    "df = df[['comment_text', 'y']].rename(columns={'comment_text': 'text'})\n",
    "df.sample(100)"
   ]
  },
  {
   "cell_type": "markdown",
   "id": "234dd506-e094-487f-9d2b-519bfa59a1c1",
   "metadata": {},
   "source": [
    "**Verificando a Subamostra do Dataset de treinamento**\n",
    "==========="
   ]
  },
  {
   "cell_type": "markdown",
   "id": "2d1fc5cc-9573-4a66-a088-21675118e6ce",
   "metadata": {},
   "source": [
    "**Identificando a classe majoritária do treinamento:**"
   ]
  },
  {
   "cell_type": "code",
   "execution_count": 48,
   "id": "6cffc998-d9a1-4763-b3cd-f14e7f3bd9b1",
   "metadata": {},
   "outputs": [
    {
     "data": {
      "text/plain": [
       "0    0.898321\n",
       "1    0.101679\n",
       "Name: y, dtype: float64"
      ]
     },
     "execution_count": 48,
     "metadata": {},
     "output_type": "execute_result"
    }
   ],
   "source": [
    "df['y'].value_counts(normalize=True)\n"
   ]
  },
  {
   "cell_type": "markdown",
   "id": "e2a5c3cb-2fdd-4596-8c5e-c9e3317b7fd8",
   "metadata": {},
   "source": [
    "**Usando o sample para igualar as classes do treinamento:**\n",
    "==========="
   ]
  },
  {
   "cell_type": "code",
   "execution_count": 55,
   "id": "ce8edd52-c617-4140-a01c-f93d7133c0c4",
   "metadata": {},
   "outputs": [
    {
     "data": {
      "text/plain": [
       "1    16225\n",
       "0    16225\n",
       "Name: y, dtype: int64"
      ]
     },
     "execution_count": 55,
     "metadata": {},
     "output_type": "execute_result"
    }
   ],
   "source": [
    "#Como o conjunto de dados é muito desbalanceado. Igualei classe majoritária da amostra\n",
    "\n",
    "min_len = (df['y'] == 1).sum()\n",
    "df_y0_undersample = df[df['y'] == 0].sample(n=min_len, random_state=201)\n",
    "df = pd.concat([df[df['y'] == 1], df_y0_undersample])\n",
    "df['y'].value_counts()\n"
   ]
  },
  {
   "cell_type": "markdown",
   "id": "627e0b6c-50c8-49ec-800b-4dbd834afed2",
   "metadata": {},
   "source": [
    "**Vetorizando os dados de treinamento com oa TfidVectorizer**\n",
    "==========="
   ]
  },
  {
   "cell_type": "code",
   "execution_count": 50,
   "id": "88dd467d-a8d1-43f4-8280-4fb950b1b735",
   "metadata": {},
   "outputs": [
    {
     "data": {
      "text/plain": [
       "<32450x65740 sparse matrix of type '<class 'numpy.float64'>'\n",
       "\twith 1221879 stored elements in Compressed Sparse Row format>"
      ]
     },
     "execution_count": 50,
     "metadata": {},
     "output_type": "execute_result"
    }
   ],
   "source": [
    "#Definindo os peses para classificação com o TF-IDF\n",
    "\n",
    "vec = TfidfVectorizer()\n",
    "X = vec.fit_transform(df['text'])\n",
    "X"
   ]
  },
  {
   "cell_type": "markdown",
   "id": "c8e59f38-f73c-4c0d-8fdb-eab4f5a6c2d0",
   "metadata": {},
   "source": [
    "**Matriz de correlação dos dados de treinamento:**\n",
    "==========="
   ]
  },
  {
   "cell_type": "code",
   "execution_count": 19,
   "id": "f5a4131e-b24e-42a7-86ed-2db81c00ac89",
   "metadata": {},
   "outputs": [
    {
     "data": {
      "image/png": "[encoded data removed]",
      "text/plain": [
       "<Figure size 1000x800 with 2 Axes>"
      ]
     },
     "metadata": {},
     "output_type": "display_data"
    }
   ],
   "source": [
    "correlation_matrix = df.corr(numeric_only=True)\n",
    "\n",
    "plt.figure(figsize=(10, 8))\n",
    "sns.heatmap(correlation_matrix, annot=True, cmap='coolwarm', fmt=\".2f\", square=True)\n",
    "\n",
    "plt.title('Correlation Matrix of Coefficients')\n",
    "plt.xticks(rotation=45)\n",
    "plt.yticks(rotation=0)\n",
    "plt.show()"
   ]
  },
  {
   "cell_type": "markdown",
   "id": "53229808-8475-486b-928b-5c31c3576e10",
   "metadata": {},
   "source": [
    "**Aplicando o Naive Bayes**\n",
    "==========="
   ]
  },
  {
   "cell_type": "code",
   "execution_count": 60,
   "id": "9d83435a-adb8-465f-9640-bd7bed76bd56",
   "metadata": {},
   "outputs": [
    {
     "data": {
      "text/html": [
       "<style>#sk-container-id-2 {color: black;background-color: white;}#sk-container-id-2 pre{padding: 0;}#sk-container-id-2 div.sk-toggleable {background-color: white;}#sk-container-id-2 label.sk-toggleable__label {cursor: pointer;display: block;width: 100%;margin-bottom: 0;padding: 0.3em;box-sizing: border-box;text-align: center;}#sk-container-id-2 label.sk-toggleable__label-arrow:before {content: \"▸\";float: left;margin-right: 0.25em;color: #696969;}#sk-container-id-2 label.sk-toggleable__label-arrow:hover:before {color: black;}#sk-container-id-2 div.sk-estimator:hover label.sk-toggleable__label-arrow:before {color: black;}#sk-container-id-2 div.sk-toggleable__content {max-height: 0;max-width: 0;overflow: hidden;text-align: left;background-color: #f0f8ff;}#sk-container-id-2 div.sk-toggleable__content pre {margin: 0.2em;color: black;border-radius: 0.25em;background-color: #f0f8ff;}#sk-container-id-2 input.sk-toggleable__control:checked~div.sk-toggleable__content {max-height: 200px;max-width: 100%;overflow: auto;}#sk-container-id-2 input.sk-toggleable__control:checked~label.sk-toggleable__label-arrow:before {content: \"▾\";}#sk-container-id-2 div.sk-estimator input.sk-toggleable__control:checked~label.sk-toggleable__label {background-color: #d4ebff;}#sk-container-id-2 div.sk-label input.sk-toggleable__control:checked~label.sk-toggleable__label {background-color: #d4ebff;}#sk-container-id-2 input.sk-hidden--visually {border: 0;clip: rect(1px 1px 1px 1px);clip: rect(1px, 1px, 1px, 1px);height: 1px;margin: -1px;overflow: hidden;padding: 0;position: absolute;width: 1px;}#sk-container-id-2 div.sk-estimator {font-family: monospace;background-color: #f0f8ff;border: 1px dotted black;border-radius: 0.25em;box-sizing: border-box;margin-bottom: 0.5em;}#sk-container-id-2 div.sk-estimator:hover {background-color: #d4ebff;}#sk-container-id-2 div.sk-parallel-item::after {content: \"\";width: 100%;border-bottom: 1px solid gray;flex-grow: 1;}#sk-container-id-2 div.sk-label:hover label.sk-toggleable__label {background-color: #d4ebff;}#sk-container-id-2 div.sk-serial::before {content: \"\";position: absolute;border-left: 1px solid gray;box-sizing: border-box;top: 0;bottom: 0;left: 50%;z-index: 0;}#sk-container-id-2 div.sk-serial {display: flex;flex-direction: column;align-items: center;background-color: white;padding-right: 0.2em;padding-left: 0.2em;position: relative;}#sk-container-id-2 div.sk-item {position: relative;z-index: 1;}#sk-container-id-2 div.sk-parallel {display: flex;align-items: stretch;justify-content: center;background-color: white;position: relative;}#sk-container-id-2 div.sk-item::before, #sk-container-id-2 div.sk-parallel-item::before {content: \"\";position: absolute;border-left: 1px solid gray;box-sizing: border-box;top: 0;bottom: 0;left: 50%;z-index: -1;}#sk-container-id-2 div.sk-parallel-item {display: flex;flex-direction: column;z-index: 1;position: relative;background-color: white;}#sk-container-id-2 div.sk-parallel-item:first-child::after {align-self: flex-end;width: 50%;}#sk-container-id-2 div.sk-parallel-item:last-child::after {align-self: flex-start;width: 50%;}#sk-container-id-2 div.sk-parallel-item:only-child::after {width: 0;}#sk-container-id-2 div.sk-dashed-wrapped {border: 1px dashed gray;margin: 0 0.4em 0.5em 0.4em;box-sizing: border-box;padding-bottom: 0.4em;background-color: white;}#sk-container-id-2 div.sk-label label {font-family: monospace;font-weight: bold;display: inline-block;line-height: 1.2em;}#sk-container-id-2 div.sk-label-container {text-align: center;}#sk-container-id-2 div.sk-container {/* jupyter's `normalize.less` sets `[hidden] { display: none; }` but bootstrap.min.css set `[hidden] { display: none !important; }` so we also need the `!important` here to be able to override the default hidden behavior on the sphinx rendered scikit-learn.org. See: https://github.com/scikit-learn/scikit-learn/issues/21755 */display: inline-block !important;position: relative;}#sk-container-id-2 div.sk-text-repr-fallback {display: none;}</style><div id=\"sk-container-id-2\" class=\"sk-top-container\"><div class=\"sk-text-repr-fallback\"><pre>MultinomialNB()</pre><b>In a Jupyter environment, please rerun this cell to show the HTML representation or trust the notebook. <br />On GitHub, the HTML representation is unable to render, please try loading this page with nbviewer.org.</b></div><div class=\"sk-container\" hidden><div class=\"sk-item\"><div class=\"sk-estimator sk-toggleable\"><input class=\"sk-toggleable__control sk-hidden--visually\" id=\"sk-estimator-id-2\" type=\"checkbox\" checked><label for=\"sk-estimator-id-2\" class=\"sk-toggleable__label sk-toggleable__label-arrow\">MultinomialNB</label><div class=\"sk-toggleable__content\"><pre>MultinomialNB()</pre></div></div></div></div></div>"
      ],
      "text/plain": [
       "MultinomialNB()"
      ]
     },
     "execution_count": 60,
     "metadata": {},
     "output_type": "execute_result"
    }
   ],
   "source": [
    "from sklearn.naive_bayes import MultinomialNB\n",
    "from sklearn.feature_extraction.text import TfidfVectorizer\n",
    "\n",
    "model = MultinomialNB()\n",
    "model.fit(X, df['y'])"
   ]
  },
  {
   "cell_type": "markdown",
   "id": "058ebbf9-b659-4280-a659-36d6b0be8221",
   "metadata": {},
   "source": [
    "**Validação do Treinanmento**\n",
    "==========="
   ]
  },
  {
   "cell_type": "markdown",
   "id": "7cdf5b99-105c-4347-9519-f5831228d88f",
   "metadata": {},
   "source": [
    "**Calculando Matriz de Confusão**\n",
    "==========="
   ]
  },
  {
   "cell_type": "code",
   "execution_count": 66,
   "id": "6f544f47-0e55-45f3-80b6-556b843ba261",
   "metadata": {},
   "outputs": [
    {
     "name": "stdout",
     "output_type": "stream",
     "text": [
      "Matriz de Confusão:\n",
      "[[2915  314]\n",
      " [ 482 2779]]\n"
     ]
    }
   ],
   "source": [
    "X_train, X_test, y_train, y_test = train_test_split(df['text'], df['y'], test_size=0.2, random_state=42)\n",
    "\n",
    "# Criação da instância do TfidfVectorizer\n",
    "vectorizer = TfidfVectorizer()\n",
    "\n",
    "# Ajustando o vetorizador aos dados de treinamento e transformá-los em vetores TF-IDF\n",
    "X_train_transformed = vectorizer.fit_transform(X_train)\n",
    "X_test_transformed = vectorizer.transform(X_test)\n",
    "\n",
    "# Criar e treinar o modelo MultinomialNB\n",
    "model = MultinomialNB()\n",
    "model.fit(X_train_transformed, y_train)\n",
    "\n",
    "# Fazer previsões no conjunto de teste\n",
    "y_pred = model.predict(X_test_transformed)\n",
    "\n",
    "# Calcular a matriz de confusão\n",
    "matrix = confusion_matrix(y_test, y_pred)\n",
    "\n",
    "print(\"Matriz de Confusão:\")\n",
    "print(matrix)\n"
   ]
  },
  {
   "cell_type": "markdown",
   "id": "0090e435-0147-44b7-941a-879dfaef7359",
   "metadata": {},
   "source": [
    "                                                 Classe Prevista Negativa  |  Classe Prevista Positiva\n",
    "                                                 -----------------------------------------------------------------------------------\n",
    "                                                 Classe Real Negativa      |  2915 (Verdadeiro Negativo)   314 (Falso Positivo)\n",
    "                                                 Classe Real Positiva      |  482 (Falso Negativo)        2779 (Verdadeiro Positivo)\n"
   ]
  },
  {
   "cell_type": "markdown",
   "id": "87f066bd-19de-431e-ac41-f7b3a1b4f81e",
   "metadata": {},
   "source": [
    "**Precisão, recall, F1, support e Acuracia do Modelo**\n",
    "==========="
   ]
  },
  {
   "cell_type": "code",
   "execution_count": 67,
   "id": "d0873d02-f5ac-44cb-ba92-37e81a92d9a1",
   "metadata": {},
   "outputs": [
    {
     "name": "stdout",
     "output_type": "stream",
     "text": [
      "              precision    recall  f1-score   support\n",
      "\n",
      "           0       0.86      0.90      0.88      3229\n",
      "           1       0.90      0.85      0.87      3261\n",
      "\n",
      "    accuracy                           0.88      6490\n",
      "   macro avg       0.88      0.88      0.88      6490\n",
      "weighted avg       0.88      0.88      0.88      6490\n",
      "\n"
     ]
    }
   ],
   "source": [
    "print(classification_report(y_test, y_pred))"
   ]
  },
  {
   "cell_type": "markdown",
   "id": "97757379-d939-47d9-8915-70e193fa5cbe",
   "metadata": {},
   "source": [
    "**Submissão dos Dados**\n",
    "==========="
   ]
  },
  {
   "cell_type": "code",
   "execution_count": 11,
   "id": "e0b0a537-1e58-42c7-8939-68938adebb40",
   "metadata": {},
   "outputs": [
    {
     "data": {
      "text/html": [
       "<div>\n",
       "<style scoped>\n",
       "    .dataframe tbody tr th:only-of-type {\n",
       "        vertical-align: middle;\n",
       "    }\n",
       "\n",
       "    .dataframe tbody tr th {\n",
       "        vertical-align: top;\n",
       "    }\n",
       "\n",
       "    .dataframe thead th {\n",
       "        text-align: right;\n",
       "    }\n",
       "</style>\n",
       "<table border=\"1\" class=\"dataframe\">\n",
       "  <thead>\n",
       "    <tr style=\"text-align: right;\">\n",
       "      <th></th>\n",
       "      <th>comment_text</th>\n",
       "      <th>id</th>\n",
       "    </tr>\n",
       "  </thead>\n",
       "  <tbody>\n",
       "    <tr>\n",
       "      <th>0</th>\n",
       "      <td>Yo bitch Ja Rule is more succesful then you'll...</td>\n",
       "      <td>00001cee341fdb12</td>\n",
       "    </tr>\n",
       "    <tr>\n",
       "      <th>1</th>\n",
       "      <td>== From RfC == \\n\\n The title is fine as it is...</td>\n",
       "      <td>0000247867823ef7</td>\n",
       "    </tr>\n",
       "    <tr>\n",
       "      <th>2</th>\n",
       "      <td>\" \\n\\n == Sources == \\n\\n * Zawe Ashton on Lap...</td>\n",
       "      <td>00013b17ad220c46</td>\n",
       "    </tr>\n",
       "    <tr>\n",
       "      <th>3</th>\n",
       "      <td>:If you have a look back at the source, the in...</td>\n",
       "      <td>00017563c3f7919a</td>\n",
       "    </tr>\n",
       "    <tr>\n",
       "      <th>4</th>\n",
       "      <td>I don't anonymously edit articles at all.</td>\n",
       "      <td>00017695ad8997eb</td>\n",
       "    </tr>\n",
       "    <tr>\n",
       "      <th>...</th>\n",
       "      <td>...</td>\n",
       "      <td>...</td>\n",
       "    </tr>\n",
       "    <tr>\n",
       "      <th>95</th>\n",
       "      <td>\" \\n\\n == Main towns that are not so main == \\...</td>\n",
       "      <td>0023f3f84f353bce</td>\n",
       "    </tr>\n",
       "    <tr>\n",
       "      <th>96</th>\n",
       "      <td>\" \\n\\n  my comments follow, bluewillow991967 -...</td>\n",
       "      <td>002586bdf3280356</td>\n",
       "    </tr>\n",
       "    <tr>\n",
       "      <th>97</th>\n",
       "      <td>\" \\n\\n == Halliday == \\n\\n Good to see another...</td>\n",
       "      <td>0025a91b6955f1a5</td>\n",
       "    </tr>\n",
       "    <tr>\n",
       "      <th>98</th>\n",
       "      <td>\" \\n ::: That Stephen Barrett is not Board Cer...</td>\n",
       "      <td>0025c49d87d9a18f</td>\n",
       "    </tr>\n",
       "    <tr>\n",
       "      <th>99</th>\n",
       "      <td>Stone Sour sucks anus</td>\n",
       "      <td>00260d8dfcc29827</td>\n",
       "    </tr>\n",
       "  </tbody>\n",
       "</table>\n",
       "<p>100 rows × 2 columns</p>\n",
       "</div>"
      ],
      "text/plain": [
       "                                         comment_text                id\n",
       "0   Yo bitch Ja Rule is more succesful then you'll...  00001cee341fdb12\n",
       "1   == From RfC == \\n\\n The title is fine as it is...  0000247867823ef7\n",
       "2   \" \\n\\n == Sources == \\n\\n * Zawe Ashton on Lap...  00013b17ad220c46\n",
       "3   :If you have a look back at the source, the in...  00017563c3f7919a\n",
       "4           I don't anonymously edit articles at all.  00017695ad8997eb\n",
       "..                                                ...               ...\n",
       "95  \" \\n\\n == Main towns that are not so main == \\...  0023f3f84f353bce\n",
       "96  \" \\n\\n  my comments follow, bluewillow991967 -...  002586bdf3280356\n",
       "97  \" \\n\\n == Halliday == \\n\\n Good to see another...  0025a91b6955f1a5\n",
       "98  \" \\n ::: That Stephen Barrett is not Board Cer...  0025c49d87d9a18f\n",
       "99                              Stone Sour sucks anus  00260d8dfcc29827\n",
       "\n",
       "[100 rows x 2 columns]"
      ]
     },
     "execution_count": 11,
     "metadata": {},
     "output_type": "execute_result"
    }
   ],
   "source": [
    "df_sub = pd.read_csv(r'C:\\Users\\lucas\\Downloads\\2023.2\\Intro Data Science\\EE1\\EE1 - Naive Bayes\\submission.csv')\n",
    "X_test = vec.transform(df_sub['comment_text'])\n",
    "p3 = model.predict_proba(X_test)\n",
    "df_sub.head(100)"
   ]
  },
  {
   "cell_type": "markdown",
   "id": "14f866ef-981f-44de-bbc6-78c26762deda",
   "metadata": {},
   "source": [
    "**Classes após classificação**\n",
    "==========="
   ]
  },
  {
   "cell_type": "code",
   "execution_count": 12,
   "id": "2d5dd42c-0ccb-4dfd-8b5c-92de0258feaf",
   "metadata": {},
   "outputs": [
    {
     "data": {
      "text/plain": [
       "153164"
      ]
     },
     "execution_count": 12,
     "metadata": {},
     "output_type": "execute_result"
    }
   ],
   "source": [
    "df_sub['score'] = p3[:, 1]\n",
    "df_sub['score'].count()"
   ]
  },
  {
   "cell_type": "code",
   "execution_count": 13,
   "id": "22017f49-8aa3-40df-946b-252d64fc7a8f",
   "metadata": {},
   "outputs": [
    {
     "data": {
      "text/plain": [
       "149045"
      ]
     },
     "execution_count": 13,
     "metadata": {},
     "output_type": "execute_result"
    }
   ],
   "source": [
    "df_sub['score'].nunique()"
   ]
  },
  {
   "cell_type": "markdown",
   "id": "c244fc9e-289d-4d60-b805-865d2e0e9f53",
   "metadata": {},
   "source": [
    "**Dados Submetidos e Classificados**\n",
    "==========="
   ]
  },
  {
   "cell_type": "code",
   "execution_count": 14,
   "id": "8a1ae858-f300-44c6-b253-5324c2eccb95",
   "metadata": {},
   "outputs": [
    {
     "data": {
      "text/html": [
       "<div>\n",
       "<style scoped>\n",
       "    .dataframe tbody tr th:only-of-type {\n",
       "        vertical-align: middle;\n",
       "    }\n",
       "\n",
       "    .dataframe tbody tr th {\n",
       "        vertical-align: top;\n",
       "    }\n",
       "\n",
       "    .dataframe thead th {\n",
       "        text-align: right;\n",
       "    }\n",
       "</style>\n",
       "<table border=\"1\" class=\"dataframe\">\n",
       "  <thead>\n",
       "    <tr style=\"text-align: right;\">\n",
       "      <th></th>\n",
       "      <th>comment_text</th>\n",
       "      <th>id</th>\n",
       "      <th>score</th>\n",
       "    </tr>\n",
       "  </thead>\n",
       "  <tbody>\n",
       "    <tr>\n",
       "      <th>0</th>\n",
       "      <td>Yo bitch Ja Rule is more succesful then you'll...</td>\n",
       "      <td>00001cee341fdb12</td>\n",
       "      <td>0.996291</td>\n",
       "    </tr>\n",
       "    <tr>\n",
       "      <th>1</th>\n",
       "      <td>== From RfC == \\n\\n The title is fine as it is...</td>\n",
       "      <td>0000247867823ef7</td>\n",
       "      <td>0.110922</td>\n",
       "    </tr>\n",
       "    <tr>\n",
       "      <th>2</th>\n",
       "      <td>\" \\n\\n == Sources == \\n\\n * Zawe Ashton on Lap...</td>\n",
       "      <td>00013b17ad220c46</td>\n",
       "      <td>0.333373</td>\n",
       "    </tr>\n",
       "    <tr>\n",
       "      <th>3</th>\n",
       "      <td>:If you have a look back at the source, the in...</td>\n",
       "      <td>00017563c3f7919a</td>\n",
       "      <td>0.081815</td>\n",
       "    </tr>\n",
       "    <tr>\n",
       "      <th>4</th>\n",
       "      <td>I don't anonymously edit articles at all.</td>\n",
       "      <td>00017695ad8997eb</td>\n",
       "      <td>0.309500</td>\n",
       "    </tr>\n",
       "    <tr>\n",
       "      <th>...</th>\n",
       "      <td>...</td>\n",
       "      <td>...</td>\n",
       "      <td>...</td>\n",
       "    </tr>\n",
       "    <tr>\n",
       "      <th>95</th>\n",
       "      <td>\" \\n\\n == Main towns that are not so main == \\...</td>\n",
       "      <td>0023f3f84f353bce</td>\n",
       "      <td>0.115282</td>\n",
       "    </tr>\n",
       "    <tr>\n",
       "      <th>96</th>\n",
       "      <td>\" \\n\\n  my comments follow, bluewillow991967 -...</td>\n",
       "      <td>002586bdf3280356</td>\n",
       "      <td>0.030700</td>\n",
       "    </tr>\n",
       "    <tr>\n",
       "      <th>97</th>\n",
       "      <td>\" \\n\\n == Halliday == \\n\\n Good to see another...</td>\n",
       "      <td>0025a91b6955f1a5</td>\n",
       "      <td>0.217401</td>\n",
       "    </tr>\n",
       "    <tr>\n",
       "      <th>98</th>\n",
       "      <td>\" \\n ::: That Stephen Barrett is not Board Cer...</td>\n",
       "      <td>0025c49d87d9a18f</td>\n",
       "      <td>0.117974</td>\n",
       "    </tr>\n",
       "    <tr>\n",
       "      <th>99</th>\n",
       "      <td>Stone Sour sucks anus</td>\n",
       "      <td>00260d8dfcc29827</td>\n",
       "      <td>0.934928</td>\n",
       "    </tr>\n",
       "  </tbody>\n",
       "</table>\n",
       "<p>100 rows × 3 columns</p>\n",
       "</div>"
      ],
      "text/plain": [
       "                                         comment_text                id  \\\n",
       "0   Yo bitch Ja Rule is more succesful then you'll...  00001cee341fdb12   \n",
       "1   == From RfC == \\n\\n The title is fine as it is...  0000247867823ef7   \n",
       "2   \" \\n\\n == Sources == \\n\\n * Zawe Ashton on Lap...  00013b17ad220c46   \n",
       "3   :If you have a look back at the source, the in...  00017563c3f7919a   \n",
       "4           I don't anonymously edit articles at all.  00017695ad8997eb   \n",
       "..                                                ...               ...   \n",
       "95  \" \\n\\n == Main towns that are not so main == \\...  0023f3f84f353bce   \n",
       "96  \" \\n\\n  my comments follow, bluewillow991967 -...  002586bdf3280356   \n",
       "97  \" \\n\\n == Halliday == \\n\\n Good to see another...  0025a91b6955f1a5   \n",
       "98  \" \\n ::: That Stephen Barrett is not Board Cer...  0025c49d87d9a18f   \n",
       "99                              Stone Sour sucks anus  00260d8dfcc29827   \n",
       "\n",
       "       score  \n",
       "0   0.996291  \n",
       "1   0.110922  \n",
       "2   0.333373  \n",
       "3   0.081815  \n",
       "4   0.309500  \n",
       "..       ...  \n",
       "95  0.115282  \n",
       "96  0.030700  \n",
       "97  0.217401  \n",
       "98  0.117974  \n",
       "99  0.934928  \n",
       "\n",
       "[100 rows x 3 columns]"
      ]
     },
     "execution_count": 14,
     "metadata": {},
     "output_type": "execute_result"
    }
   ],
   "source": [
    "df_sub[['comment_text', 'score']].to_csv(\"sample_submission.csv\", index=False)\n",
    "df_sub.head(100)"
   ]
  }
 ],
 "metadata": {
  "kernelspec": {
   "display_name": "Python 3 (ipykernel)",
   "language": "python",
   "name": "python3"
  },
  "language_info": {
   "codemirror_mode": {
    "name": "ipython",
    "version": 3
   },
   "file_extension": ".py",
   "mimetype": "text/x-python",
   "name": "python",
   "nbconvert_exporter": "python",
   "pygments_lexer": "ipython3",
   "version": "3.10.9"
  }
 },
 "nbformat": 4,
 "nbformat_minor": 5
}
