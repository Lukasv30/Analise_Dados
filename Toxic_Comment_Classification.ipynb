{
 "cells": [
  {
   "cell_type": "markdown",
   "id": "29926789-27b0-4b61-aef2-465ad0cf9acc",
   "metadata": {},
   "source": [
    "**Data Analysis Using Naive Bayes Classifier: Classifying Toxic Comments**\n",
    "==========="
   ]
  },
  {
   "cell_type": "markdown",
   "id": "bd1b71d6-1919-4b00-b174-055455874e7c",
   "metadata": {},
   "source": [
    "**Abstract:** Classifying offensive, toxic, and obscene comments using machine learning and data analysis, with Naive Bayes classification.\n",
    "\n",
    "Language: Python\n",
    "\n",
    "Models used: Naive Bayes Classification\n",
    "\n",
    "Dependent Variable: 'y': This is the dependent variable. It contains the classes you are trying to predict. In your case, 'y' takes on the values 0 for non-offensive comments and 1 for offensive comments.\n",
    "\n",
    "Explanatory variables:The comments in text are converted into numerical data, and the classification of comments includes the categories 'toxic', 'severe_toxic', 'obscene', 'threat', 'insult', and 'identity_hate'.\n",
    "\n",
    "Data sources: \n",
    "\n",
    "Toxic Comment Classification Challenge: <https://www.kaggle.com/datasets/julian3833/jigsaw-toxic-comment-classification-challenge>"
   ]
  },
  {
   "cell_type": "markdown",
   "id": "b84666f1-b75e-488d-a670-70d35bc4d0ea",
   "metadata": {},
   "source": [
    "***\n",
    "\n",
    "### **Data analysis and machine learning**"
   ]
  },
  {
   "cell_type": "markdown",
   "id": "947ad619-40f1-4143-9271-a145374b0824",
   "metadata": {},
   "source": [
    "\n",
    "'**Data analysis** is a practice that focuses on the application of statistical methods, data mining techniques, machine learning, and analytical tools to extract insights, patterns, and valuable knowledge from datasets. It involves data collection, cleaning, transformation, and interpretation with the aim of making informed decisions, making predictions, optimizing processes, and solving complex problems. The science of data analysis plays a fundamental role in fields such as data science, business intelligence, scientific research, medicine, marketing, finance, and more, helping to transform raw data into actionable information to drive progress and innovation.\n",
    "\n",
    "**Machine Learning** is the science of enabling computers to learn how to perform tasks without being explicitly programmed to do so. It focuses on generating accurate predictions, minimizing mean squared error, even in the face of computational constraints. Machine learning models deal with a trade-off between bias and variance and often use regularization techniques for biased parameter estimates.\n",
    "\n",
    "Data analysis and machine learning are interconnected in the knowledge extraction from data. Data analysis forms the foundation, involving data exploration, preparation, and understanding. Machine learning uses this data to train models that can predict, classify, or automate tasks. **Data analysis provides initial insights, while machine learning leverages these insights to create intelligent systems that make decisions or predictions based on the data.**"
   ]
  },
  {
   "cell_type": "markdown",
   "id": "8f6fc7f2-e131-4d55-9bfc-47533504f637",
   "metadata": {},
   "source": [
    "### **Importing the libraries and extracting the data.**"
   ]
  },
  {
   "cell_type": "code",
   "execution_count": 29,
   "id": "89b6b6e6-93d0-45f6-a0f0-4ae9a0d7a724",
   "metadata": {},
   "outputs": [
    {
     "name": "stdout",
     "output_type": "stream",
     "text": [
      "Requirement already satisfied: scikit-learn in c:\\users\\lucas\\anaconda3\\lib\\site-packages (1.2.1)\n",
      "Requirement already satisfied: numpy>=1.17.3 in c:\\users\\lucas\\anaconda3\\lib\\site-packages (from scikit-learn) (1.23.5)\n",
      "Requirement already satisfied: joblib>=1.1.1 in c:\\users\\lucas\\anaconda3\\lib\\site-packages (from scikit-learn) (1.1.1)\n",
      "Requirement already satisfied: scipy>=1.3.2 in c:\\users\\lucas\\anaconda3\\lib\\site-packages (from scikit-learn) (1.10.0)\n",
      "Requirement already satisfied: threadpoolctl>=2.0.0 in c:\\users\\lucas\\anaconda3\\lib\\site-packages (from scikit-learn) (2.2.0)\n"
     ]
    },
    {
     "data": {
      "text/html": [
       "<div>\n",
       "<style scoped>\n",
       "    .dataframe tbody tr th:only-of-type {\n",
       "        vertical-align: middle;\n",
       "    }\n",
       "\n",
       "    .dataframe tbody tr th {\n",
       "        vertical-align: top;\n",
       "    }\n",
       "\n",
       "    .dataframe thead th {\n",
       "        text-align: right;\n",
       "    }\n",
       "</style>\n",
       "<table border=\"1\" class=\"dataframe\">\n",
       "  <thead>\n",
       "    <tr style=\"text-align: right;\">\n",
       "      <th></th>\n",
       "      <th>id</th>\n",
       "      <th>comment_text</th>\n",
       "      <th>toxic</th>\n",
       "      <th>severe_toxic</th>\n",
       "      <th>obscene</th>\n",
       "      <th>threat</th>\n",
       "      <th>insult</th>\n",
       "      <th>identity_hate</th>\n",
       "    </tr>\n",
       "  </thead>\n",
       "  <tbody>\n",
       "    <tr>\n",
       "      <th>0</th>\n",
       "      <td>0000997932d777bf</td>\n",
       "      <td>Explanation\\nWhy the edits made under my usern...</td>\n",
       "      <td>0</td>\n",
       "      <td>0</td>\n",
       "      <td>0</td>\n",
       "      <td>0</td>\n",
       "      <td>0</td>\n",
       "      <td>0</td>\n",
       "    </tr>\n",
       "    <tr>\n",
       "      <th>1</th>\n",
       "      <td>000103f0d9cfb60f</td>\n",
       "      <td>D'aww! He matches this background colour I'm s...</td>\n",
       "      <td>0</td>\n",
       "      <td>0</td>\n",
       "      <td>0</td>\n",
       "      <td>0</td>\n",
       "      <td>0</td>\n",
       "      <td>0</td>\n",
       "    </tr>\n",
       "    <tr>\n",
       "      <th>2</th>\n",
       "      <td>000113f07ec002fd</td>\n",
       "      <td>Hey man, I'm really not trying to edit war. It...</td>\n",
       "      <td>0</td>\n",
       "      <td>0</td>\n",
       "      <td>0</td>\n",
       "      <td>0</td>\n",
       "      <td>0</td>\n",
       "      <td>0</td>\n",
       "    </tr>\n",
       "    <tr>\n",
       "      <th>3</th>\n",
       "      <td>0001b41b1c6bb37e</td>\n",
       "      <td>\"\\nMore\\nI can't make any real suggestions on ...</td>\n",
       "      <td>0</td>\n",
       "      <td>0</td>\n",
       "      <td>0</td>\n",
       "      <td>0</td>\n",
       "      <td>0</td>\n",
       "      <td>0</td>\n",
       "    </tr>\n",
       "    <tr>\n",
       "      <th>4</th>\n",
       "      <td>0001d958c54c6e35</td>\n",
       "      <td>You, sir, are my hero. Any chance you remember...</td>\n",
       "      <td>0</td>\n",
       "      <td>0</td>\n",
       "      <td>0</td>\n",
       "      <td>0</td>\n",
       "      <td>0</td>\n",
       "      <td>0</td>\n",
       "    </tr>\n",
       "    <tr>\n",
       "      <th>...</th>\n",
       "      <td>...</td>\n",
       "      <td>...</td>\n",
       "      <td>...</td>\n",
       "      <td>...</td>\n",
       "      <td>...</td>\n",
       "      <td>...</td>\n",
       "      <td>...</td>\n",
       "      <td>...</td>\n",
       "    </tr>\n",
       "    <tr>\n",
       "      <th>159566</th>\n",
       "      <td>ffe987279560d7ff</td>\n",
       "      <td>\":::::And for the second time of asking, when ...</td>\n",
       "      <td>0</td>\n",
       "      <td>0</td>\n",
       "      <td>0</td>\n",
       "      <td>0</td>\n",
       "      <td>0</td>\n",
       "      <td>0</td>\n",
       "    </tr>\n",
       "    <tr>\n",
       "      <th>159567</th>\n",
       "      <td>ffea4adeee384e90</td>\n",
       "      <td>You should be ashamed of yourself \\n\\nThat is ...</td>\n",
       "      <td>0</td>\n",
       "      <td>0</td>\n",
       "      <td>0</td>\n",
       "      <td>0</td>\n",
       "      <td>0</td>\n",
       "      <td>0</td>\n",
       "    </tr>\n",
       "    <tr>\n",
       "      <th>159568</th>\n",
       "      <td>ffee36eab5c267c9</td>\n",
       "      <td>Spitzer \\n\\nUmm, theres no actual article for ...</td>\n",
       "      <td>0</td>\n",
       "      <td>0</td>\n",
       "      <td>0</td>\n",
       "      <td>0</td>\n",
       "      <td>0</td>\n",
       "      <td>0</td>\n",
       "    </tr>\n",
       "    <tr>\n",
       "      <th>159569</th>\n",
       "      <td>fff125370e4aaaf3</td>\n",
       "      <td>And it looks like it was actually you who put ...</td>\n",
       "      <td>0</td>\n",
       "      <td>0</td>\n",
       "      <td>0</td>\n",
       "      <td>0</td>\n",
       "      <td>0</td>\n",
       "      <td>0</td>\n",
       "    </tr>\n",
       "    <tr>\n",
       "      <th>159570</th>\n",
       "      <td>fff46fc426af1f9a</td>\n",
       "      <td>\"\\nAnd ... I really don't think you understand...</td>\n",
       "      <td>0</td>\n",
       "      <td>0</td>\n",
       "      <td>0</td>\n",
       "      <td>0</td>\n",
       "      <td>0</td>\n",
       "      <td>0</td>\n",
       "    </tr>\n",
       "  </tbody>\n",
       "</table>\n",
       "<p>159571 rows × 8 columns</p>\n",
       "</div>"
      ],
      "text/plain": [
       "                      id                                       comment_text  \\\n",
       "0       0000997932d777bf  Explanation\\nWhy the edits made under my usern...   \n",
       "1       000103f0d9cfb60f  D'aww! He matches this background colour I'm s...   \n",
       "2       000113f07ec002fd  Hey man, I'm really not trying to edit war. It...   \n",
       "3       0001b41b1c6bb37e  \"\\nMore\\nI can't make any real suggestions on ...   \n",
       "4       0001d958c54c6e35  You, sir, are my hero. Any chance you remember...   \n",
       "...                  ...                                                ...   \n",
       "159566  ffe987279560d7ff  \":::::And for the second time of asking, when ...   \n",
       "159567  ffea4adeee384e90  You should be ashamed of yourself \\n\\nThat is ...   \n",
       "159568  ffee36eab5c267c9  Spitzer \\n\\nUmm, theres no actual article for ...   \n",
       "159569  fff125370e4aaaf3  And it looks like it was actually you who put ...   \n",
       "159570  fff46fc426af1f9a  \"\\nAnd ... I really don't think you understand...   \n",
       "\n",
       "        toxic  severe_toxic  obscene  threat  insult  identity_hate  \n",
       "0           0             0        0       0       0              0  \n",
       "1           0             0        0       0       0              0  \n",
       "2           0             0        0       0       0              0  \n",
       "3           0             0        0       0       0              0  \n",
       "4           0             0        0       0       0              0  \n",
       "...       ...           ...      ...     ...     ...            ...  \n",
       "159566      0             0        0       0       0              0  \n",
       "159567      0             0        0       0       0              0  \n",
       "159568      0             0        0       0       0              0  \n",
       "159569      0             0        0       0       0              0  \n",
       "159570      0             0        0       0       0              0  \n",
       "\n",
       "[159571 rows x 8 columns]"
      ]
     },
     "execution_count": 29,
     "metadata": {},
     "output_type": "execute_result"
    }
   ],
   "source": [
    "!pip install scikit-learn\n",
    "import numpy as np\n",
    "import pandas as pd\n",
    "import matplotlib.pyplot as plt\n",
    "import seaborn as sns\n",
    "from sklearn.model_selection import train_test_split\n",
    "from sklearn.naive_bayes import GaussianNB\n",
    "from sklearn.metrics import accuracy_score, classification_report, confusion_matrix\n",
    "from sklearn.feature_extraction.text import TfidfVectorizer\n",
    "\n",
    "df = pd.read_csv(r'C:\\Users\\lucas\\Downloads\\2023.1\\Intro Data Science\\EE1\\EE1 - Naive Bayes\\train.csv')\n",
    "df"
   ]
  },
  {
   "cell_type": "markdown",
   "id": "79e67ead-8517-4be1-bc95-b3a6897e135c",
   "metadata": {},
   "source": [
    "***Scikit-learn*** offers a wide range of machine learning algorithms, data preprocessing tools, and model evaluation metrics. Efficient data structures for working with arrays and tensors are provided by ***NumPy***, rendering it indispensable for mathematical and numerical operations. Data structures like DataFrames are made available by ***Pandas***, facilitating the reading, manipulation, and analysis of datasets. **Matplotlib.pyplot** serves as a data visualization library in Python. Complex statistical graphics creation is simplified by ***Seaborn***. ***Sklearn.model_selection***, a component of scikit-learn, supplies tools for data splitting into training and testing sets, cross-validation, and other model selection-related operations. ***Sklearn.naive_bayes*** encompasses implementations of the Naive Bayes algorithm, commonly utilized in tasks such as text classification and other classification endeavors. ***Sklearn.metrics***, another component of scikit-learn, offers model evaluation metrics like accuracy, recall, F1-score, confusion matrix, and more. ***Sklearn.feature_extraction.text*** includes tools for text feature extraction, including TF-IDF vectorization, frequently applied in natural language processing tasks.\n",
    "    \n",
    "The dataset comprises a total of 159,571 entries, each corresponding to a distinct comment. Every comment is associated with labels that indicate the presence or absence of various forms of offensive content, including toxicity, obscenity, threats, insults, and identity hate. In this dataset:\n",
    "\n",
    "* \"id\" serves as a distinctive identifier for each comment.\n",
    "* \"comment_text\" represents the textual content of the comment.\n",
    "* \"toxic,\" \"severe_toxic,\" \"obscene,\" \"threat,\" \"insult,\" and \"identity_hate\" are binary variables denoting whether the comment is offensive or not according to different criteria."
   ]
  },
  {
   "cell_type": "markdown",
   "id": "4521c548-3571-43a4-9b09-2ca5c02b380c",
   "metadata": {},
   "source": [
    "### **Data Processing**"
   ]
  },
  {
   "cell_type": "code",
   "execution_count": 32,
   "id": "84080ce0-48f7-4d7a-b793-2e38655ddba8",
   "metadata": {},
   "outputs": [
    {
     "data": {
      "text/html": [
       "<div>\n",
       "<style scoped>\n",
       "    .dataframe tbody tr th:only-of-type {\n",
       "        vertical-align: middle;\n",
       "    }\n",
       "\n",
       "    .dataframe tbody tr th {\n",
       "        vertical-align: top;\n",
       "    }\n",
       "\n",
       "    .dataframe thead th {\n",
       "        text-align: right;\n",
       "    }\n",
       "</style>\n",
       "<table border=\"1\" class=\"dataframe\">\n",
       "  <thead>\n",
       "    <tr style=\"text-align: right;\">\n",
       "      <th></th>\n",
       "      <th>text</th>\n",
       "      <th>y</th>\n",
       "    </tr>\n",
       "  </thead>\n",
       "  <tbody>\n",
       "    <tr>\n",
       "      <th>128288</th>\n",
       "      <td>Wikipedia:Articles for deletion/Britney Spears...</td>\n",
       "      <td>0</td>\n",
       "    </tr>\n",
       "    <tr>\n",
       "      <th>112302</th>\n",
       "      <td>\"\\n\\nAh yes, I forgot the subst. Thanks!  Care...</td>\n",
       "      <td>0</td>\n",
       "    </tr>\n",
       "    <tr>\n",
       "      <th>84093</th>\n",
       "      <td>\"\\n\\n Little Green Footballs \\n\\nPlease undo y...</td>\n",
       "      <td>0</td>\n",
       "    </tr>\n",
       "    <tr>\n",
       "      <th>33187</th>\n",
       "      <td>\"\\n\\n Gendergap v gender gap \\n\\nRe this edit ...</td>\n",
       "      <td>0</td>\n",
       "    </tr>\n",
       "    <tr>\n",
       "      <th>112334</th>\n",
       "      <td>Why This Can Not Become a Articule?? \\n\\n Help...</td>\n",
       "      <td>0</td>\n",
       "    </tr>\n",
       "    <tr>\n",
       "      <th>...</th>\n",
       "      <td>...</td>\n",
       "      <td>...</td>\n",
       "    </tr>\n",
       "    <tr>\n",
       "      <th>87881</th>\n",
       "      <td>Overly Long Paragraphs\\n\\nSome of the paragrap...</td>\n",
       "      <td>0</td>\n",
       "    </tr>\n",
       "    <tr>\n",
       "      <th>8050</th>\n",
       "      <td>Hey white person, you suck. Stop being so whit...</td>\n",
       "      <td>1</td>\n",
       "    </tr>\n",
       "    <tr>\n",
       "      <th>144961</th>\n",
       "      <td>byebye \\n\\nBye bye, TT. Good to see that you'l...</td>\n",
       "      <td>0</td>\n",
       "    </tr>\n",
       "    <tr>\n",
       "      <th>66643</th>\n",
       "      <td>\"\\n\\nAre you serious? If I did simply buzz off...</td>\n",
       "      <td>0</td>\n",
       "    </tr>\n",
       "    <tr>\n",
       "      <th>19964</th>\n",
       "      <td>Landscapes of Norway \\n\\nI left a note for you...</td>\n",
       "      <td>0</td>\n",
       "    </tr>\n",
       "  </tbody>\n",
       "</table>\n",
       "<p>100 rows × 2 columns</p>\n",
       "</div>"
      ],
      "text/plain": [
       "                                                     text  y\n",
       "128288  Wikipedia:Articles for deletion/Britney Spears...  0\n",
       "112302  \"\\n\\nAh yes, I forgot the subst. Thanks!  Care...  0\n",
       "84093   \"\\n\\n Little Green Footballs \\n\\nPlease undo y...  0\n",
       "33187   \"\\n\\n Gendergap v gender gap \\n\\nRe this edit ...  0\n",
       "112334  Why This Can Not Become a Articule?? \\n\\n Help...  0\n",
       "...                                                   ... ..\n",
       "87881   Overly Long Paragraphs\\n\\nSome of the paragrap...  0\n",
       "8050    Hey white person, you suck. Stop being so whit...  1\n",
       "144961  byebye \\n\\nBye bye, TT. Good to see that you'l...  0\n",
       "66643   \"\\n\\nAre you serious? If I did simply buzz off...  0\n",
       "19964   Landscapes of Norway \\n\\nI left a note for you...  0\n",
       "\n",
       "[100 rows x 2 columns]"
      ]
     },
     "execution_count": 32,
     "metadata": {},
     "output_type": "execute_result"
    }
   ],
   "source": [
    "df['y'] = (df[['toxic', 'severe_toxic', 'obscene', 'threat', 'insult', 'identity_hate']].sum(axis=1) > 0 ).astype(int)\n",
    "df = df[['comment_text', 'y']].rename(columns={'comment_text': 'text'})\n",
    "df.sample(100)"
   ]
  },
  {
   "cell_type": "markdown",
   "id": "28f24ec4-910e-4f88-bacb-9a3b332714f6",
   "metadata": {},
   "source": [
    "A new column named 'y' is generated in the dataset 'df'. This 'y' column serves as the target variable for classification. It is determined using the expression: **(df[['toxic', 'severe_toxic', 'obscene', 'threat', 'insult', 'identity_hate']].sum(axis=1) > 0).astype(int)**, This expression evaluates whether at least one of the toxicity columns (toxic, severe_toxic, obscene, threat, insult, identity_hate) has a value greater than zero for each row in the DataFrame. It produces a series of boolean values (True/False) that aid the classifier in distinguishing between conditions. Subsequently, the **astype(int)** function converts these boolean values into integers, where True becomes 1 and False becomes 0. This conversion effectively creates the 'y' column in the dataset.\n"
   ]
  },
  {
   "cell_type": "markdown",
   "id": "2d1fc5cc-9573-4a66-a088-21675118e6ce",
   "metadata": {},
   "source": [
    "### **Identifying the majority class in the training data**"
   ]
  },
  {
   "cell_type": "code",
   "execution_count": 33,
   "id": "6cffc998-d9a1-4763-b3cd-f14e7f3bd9b1",
   "metadata": {},
   "outputs": [
    {
     "data": {
      "text/plain": [
       "0    0.898321\n",
       "1    0.101679\n",
       "Name: y, dtype: float64"
      ]
     },
     "execution_count": 33,
     "metadata": {},
     "output_type": "execute_result"
    }
   ],
   "source": [
    "df['y'].value_counts(normalize=True)"
   ]
  },
  {
   "cell_type": "markdown",
   "id": "77d97d1c-ae65-45eb-ab8e-d3ffea3b7ef6",
   "metadata": {},
   "source": [
    " By employing Pandas ***value_counts*** function, we can compute the proportion of each category within the 'y' column to gain insights into the distribution of categories in the target variable 'y' and identify the majority class in the dataset. For the value 0, which signifies non-offensive comments, the proportion is roughly 89.83%, while for the value 1, corresponding to offensive comments, the proportion is approximately 10.17%."
   ]
  },
  {
   "cell_type": "markdown",
   "id": "e2a5c3cb-2fdd-4596-8c5e-c9e3317b7fd8",
   "metadata": {},
   "source": [
    "### Applying undersampling\n"
   ]
  },
  {
   "cell_type": "code",
   "execution_count": 34,
   "id": "ce8edd52-c617-4140-a01c-f93d7133c0c4",
   "metadata": {},
   "outputs": [
    {
     "data": {
      "text/plain": [
       "1    16225\n",
       "0    16225\n",
       "Name: y, dtype: int64"
      ]
     },
     "execution_count": 34,
     "metadata": {},
     "output_type": "execute_result"
    }
   ],
   "source": [
    "#Indeed, given the substantial class imbalance within the dataset, measures were taken to balance the class distribution.\n",
    "\n",
    "min_len = (df['y'] == 1).sum()\n",
    "df_y0_undersample = df[df['y'] == 0].sample(n=min_len, random_state=201)\n",
    "df = pd.concat([df[df['y'] == 1], df_y0_undersample])\n",
    "df['y'].value_counts()\n"
   ]
  },
  {
   "cell_type": "markdown",
   "id": "9f466e57-d332-47eb-9a05-9bfc3fba0cf2",
   "metadata": {},
   "source": [
    "To address the class imbalance issue using **undersampling**, a new DataFrame was created, called **df_y0_undersample.** This DataFrame can be generated by randomly sampling rows where the 'y' column is equal to 0 using the **.sample()** method. The number of samples taken should be defined as **min_len**, which represents the minimum number of samples from class 1 (offensive) that was calculated earlier. After removing these samples, you can add the samples from class 1 (offensive) from the original DataFrame and the randomly sampled samples from class 0 (non-offensive), and merge them into a single DataFrame. This process will result in a new DataFrame, 'df,' that is more balanced in terms of class distribution."
   ]
  },
  {
   "cell_type": "markdown",
   "id": "627e0b6c-50c8-49ec-800b-4dbd834afed2",
   "metadata": {},
   "source": [
    "### Converting the data\n"
   ]
  },
  {
   "cell_type": "code",
   "execution_count": 35,
   "id": "88dd467d-a8d1-43f4-8280-4fb950b1b735",
   "metadata": {},
   "outputs": [],
   "source": [
    "#Defining the peses for classification with TF-IDF\n",
    "\n",
    "vectorizer = TfidfVectorizer()\n",
    "X = vectorizer.fit_transform(df['text'])\n",
    "y = df['y']"
   ]
  },
  {
   "cell_type": "markdown",
   "id": "8850df36-4016-4e87-9a23-6bade706d897",
   "metadata": {},
   "source": [
    "Following the undersampling process, the next step involves the creation of an instance of **TfidfVectorizer** to transform the textual data into numerical features. This transformation entails converting the text into a numerical representation that considers both the term frequency in the documents (TF - Term Frequency) and the significance of terms within the corpus (IDF - Inverse Document Frequency)."
   ]
  },
  {
   "cell_type": "code",
   "execution_count": 46,
   "id": "9eb88838-5f1b-4b02-ba49-4a1be3523029",
   "metadata": {},
   "outputs": [
    {
     "name": "stdout",
     "output_type": "stream",
     "text": [
      "Index(['text', 'y'], dtype='object')\n"
     ]
    }
   ],
   "source": [
    "print(df.columns)\n",
    "\n"
   ]
  },
  {
   "cell_type": "code",
   "execution_count": 50,
   "id": "69b0aea1-0673-4249-b483-9c1e14fad33a",
   "metadata": {},
   "outputs": [
    {
     "data": {
      "image/png": "[encoded data removed]",
      "text/plain": [
       "<Figure size 1000x800 with 2 Axes>"
      ]
     },
     "metadata": {},
     "output_type": "display_data"
    }
   ],
   "source": [
    "correlation_matrix = df.corr(numeric_only=True)\n",
    "\n",
    "plt.figure(figsize=(10, 8))\n",
    "sns.heatmap(correlation_matrix, annot=True, cmap='coolwarm', linewidths=.5)\n",
    "plt.title('Matriz de Correlação')\n",
    "plt.show()"
   ]
  },
  {
   "cell_type": "markdown",
   "id": "3ee53ec5-4bcf-4d53-b30e-52949d914580",
   "metadata": {},
   "source": [
    "To categorize the most prevalent type of comment, three crucial correlations come into play:\n",
    "\n",
    "1. Insult and Obscene.\n",
    "2. Toxic and Insult.\n",
    "3. Toxic and Obscene.\n",
    "\n",
    "These correlations furnish valuable insights for the task of classifying offensive comments. When training a classification model, it becomes possible to leverage these correlations to devise features that capture both toxicity and the presence of insulting or obscene language. Moreover, these insights can enhance content moderation on online platforms by effectively identifying various categories of offensive comments based on these correlation patterns.\n",
    "\n",
    "Regarding the correlation between Insult and Obscene, the positive correlation observed between insulting and obscene comments implies that, in many instances, a comment identified as insulting is also likely to be deemed obscene. This points to a notable overlap between these two categories of comments.\n",
    "\n",
    "Concerning the correlation between Toxic and Insult, the positive correlation between toxic and insulting comments indicates that, in many cases, when a comment is categorized as toxic, it is also probable to be classified as insulting. This underscores a robust association between toxicity and the use of offensive language.\n",
    "\n",
    "As for the correlation between Toxic and Obscene, the positive correlation between toxic and obscene comments similarly suggests that, in many cases, a comment labeled as toxic may also be regarded as obscene. This signifies a link between comments that exhibit offensiveness in terms of both toxicity and obscenity."
   ]
  },
  {
   "cell_type": "markdown",
   "id": "53229808-8475-486b-928b-5c31c3576e10",
   "metadata": {},
   "source": [
    "### Implementing the model in the training phase\n"
   ]
  },
  {
   "cell_type": "code",
   "execution_count": 8,
   "id": "9d83435a-adb8-465f-9640-bd7bed76bd56",
   "metadata": {},
   "outputs": [
    {
     "data": {
      "text/html": [
       "<style>#sk-container-id-1 {color: black;background-color: white;}#sk-container-id-1 pre{padding: 0;}#sk-container-id-1 div.sk-toggleable {background-color: white;}#sk-container-id-1 label.sk-toggleable__label {cursor: pointer;display: block;width: 100%;margin-bottom: 0;padding: 0.3em;box-sizing: border-box;text-align: center;}#sk-container-id-1 label.sk-toggleable__label-arrow:before {content: \"▸\";float: left;margin-right: 0.25em;color: #696969;}#sk-container-id-1 label.sk-toggleable__label-arrow:hover:before {color: black;}#sk-container-id-1 div.sk-estimator:hover label.sk-toggleable__label-arrow:before {color: black;}#sk-container-id-1 div.sk-toggleable__content {max-height: 0;max-width: 0;overflow: hidden;text-align: left;background-color: #f0f8ff;}#sk-container-id-1 div.sk-toggleable__content pre {margin: 0.2em;color: black;border-radius: 0.25em;background-color: #f0f8ff;}#sk-container-id-1 input.sk-toggleable__control:checked~div.sk-toggleable__content {max-height: 200px;max-width: 100%;overflow: auto;}#sk-container-id-1 input.sk-toggleable__control:checked~label.sk-toggleable__label-arrow:before {content: \"▾\";}#sk-container-id-1 div.sk-estimator input.sk-toggleable__control:checked~label.sk-toggleable__label {background-color: #d4ebff;}#sk-container-id-1 div.sk-label input.sk-toggleable__control:checked~label.sk-toggleable__label {background-color: #d4ebff;}#sk-container-id-1 input.sk-hidden--visually {border: 0;clip: rect(1px 1px 1px 1px);clip: rect(1px, 1px, 1px, 1px);height: 1px;margin: -1px;overflow: hidden;padding: 0;position: absolute;width: 1px;}#sk-container-id-1 div.sk-estimator {font-family: monospace;background-color: #f0f8ff;border: 1px dotted black;border-radius: 0.25em;box-sizing: border-box;margin-bottom: 0.5em;}#sk-container-id-1 div.sk-estimator:hover {background-color: #d4ebff;}#sk-container-id-1 div.sk-parallel-item::after {content: \"\";width: 100%;border-bottom: 1px solid gray;flex-grow: 1;}#sk-container-id-1 div.sk-label:hover label.sk-toggleable__label {background-color: #d4ebff;}#sk-container-id-1 div.sk-serial::before {content: \"\";position: absolute;border-left: 1px solid gray;box-sizing: border-box;top: 0;bottom: 0;left: 50%;z-index: 0;}#sk-container-id-1 div.sk-serial {display: flex;flex-direction: column;align-items: center;background-color: white;padding-right: 0.2em;padding-left: 0.2em;position: relative;}#sk-container-id-1 div.sk-item {position: relative;z-index: 1;}#sk-container-id-1 div.sk-parallel {display: flex;align-items: stretch;justify-content: center;background-color: white;position: relative;}#sk-container-id-1 div.sk-item::before, #sk-container-id-1 div.sk-parallel-item::before {content: \"\";position: absolute;border-left: 1px solid gray;box-sizing: border-box;top: 0;bottom: 0;left: 50%;z-index: -1;}#sk-container-id-1 div.sk-parallel-item {display: flex;flex-direction: column;z-index: 1;position: relative;background-color: white;}#sk-container-id-1 div.sk-parallel-item:first-child::after {align-self: flex-end;width: 50%;}#sk-container-id-1 div.sk-parallel-item:last-child::after {align-self: flex-start;width: 50%;}#sk-container-id-1 div.sk-parallel-item:only-child::after {width: 0;}#sk-container-id-1 div.sk-dashed-wrapped {border: 1px dashed gray;margin: 0 0.4em 0.5em 0.4em;box-sizing: border-box;padding-bottom: 0.4em;background-color: white;}#sk-container-id-1 div.sk-label label {font-family: monospace;font-weight: bold;display: inline-block;line-height: 1.2em;}#sk-container-id-1 div.sk-label-container {text-align: center;}#sk-container-id-1 div.sk-container {/* jupyter's `normalize.less` sets `[hidden] { display: none; }` but bootstrap.min.css set `[hidden] { display: none !important; }` so we also need the `!important` here to be able to override the default hidden behavior on the sphinx rendered scikit-learn.org. See: https://github.com/scikit-learn/scikit-learn/issues/21755 */display: inline-block !important;position: relative;}#sk-container-id-1 div.sk-text-repr-fallback {display: none;}</style><div id=\"sk-container-id-1\" class=\"sk-top-container\"><div class=\"sk-text-repr-fallback\"><pre>MultinomialNB()</pre><b>In a Jupyter environment, please rerun this cell to show the HTML representation or trust the notebook. <br />On GitHub, the HTML representation is unable to render, please try loading this page with nbviewer.org.</b></div><div class=\"sk-container\" hidden><div class=\"sk-item\"><div class=\"sk-estimator sk-toggleable\"><input class=\"sk-toggleable__control sk-hidden--visually\" id=\"sk-estimator-id-1\" type=\"checkbox\" checked><label for=\"sk-estimator-id-1\" class=\"sk-toggleable__label sk-toggleable__label-arrow\">MultinomialNB</label><div class=\"sk-toggleable__content\"><pre>MultinomialNB()</pre></div></div></div></div></div>"
      ],
      "text/plain": [
       "MultinomialNB()"
      ]
     },
     "execution_count": 8,
     "metadata": {},
     "output_type": "execute_result"
    }
   ],
   "source": [
    "from sklearn.naive_bayes import MultinomialNB\n",
    "from sklearn.feature_extraction.text import TfidfVectorizer\n",
    "\n",
    "model = MultinomialNB()\n",
    "model.fit(X, df['y'])"
   ]
  },
  {
   "cell_type": "markdown",
   "id": "65ecc30e-d8ad-496c-b2ab-7e2e3d1b9803",
   "metadata": {},
   "source": [
    "An instance of the Multinomial Naive Bayes model, referred to as 'model,' is established. This model is intended for training to categorize comments as either offensive or non-offensive, relying on the TF-IDF features (X) and the target variable 'y' extracted from the dataset. Through the training data, the model will acquire the capability to classify comments by discerning patterns present in the text and corresponding labels."
   ]
  },
  {
   "cell_type": "markdown",
   "id": "7cdf5b99-105c-4347-9519-f5831228d88f",
   "metadata": {},
   "source": [
    "### **Confusion Matrix**"
   ]
  },
  {
   "cell_type": "code",
   "execution_count": 9,
   "id": "6f544f47-0e55-45f3-80b6-556b843ba261",
   "metadata": {},
   "outputs": [
    {
     "name": "stdout",
     "output_type": "stream",
     "text": [
      "Confusion Matrix:\n",
      "[[2923  306]\n",
      " [ 472 2789]]\n"
     ]
    }
   ],
   "source": [
    "X_train, X_test, y_train, y_test = train_test_split(df['text'], df['y'], test_size=0.2, random_state=42)\n",
    "\n",
    "#The `train_test_split` function is employed to initiate the classifier application, with the parameter `test_size=0.2` signifying that 20% of the data will be designated as the test set, \n",
    "#while the remaining 80% will serve as the training set. This partitioning facilitates the evaluation of the classifier's performance on unseen data during the testing phase.\n",
    "\n",
    "vectorizer = TfidfVectorizer()\n",
    "\n",
    "X_train_transformed = vectorizer.fit_transform(X_train)\n",
    "X_test_transformed = vectorizer.transform(X_test)\n",
    "\n",
    "#An instance of the TfidfVectorizer is generated, and the vectorizer, denoted as 'vectorizer,' is then fitted to the training data (X_train) through the use of the `fit_transform` method.\n",
    "#This process enables the vectorizer to acquire the vocabulary from the text within the training set and subsequently transform the text into TF-IDF vectors based on that learned vocabulary. \n",
    "#The resulting TF-IDF vectors are stored in the variable X_test_transformed.\n",
    "\n",
    "model = MultinomialNB()\n",
    "model.fit(X_train_transformed, y_train)\n",
    "\n",
    "y_pred = model.predict(X_test_transformed)\n",
    "\n",
    "matrix = confusion_matrix(y_test, y_pred)\n",
    "\n",
    "print(\"Confusion Matrix:\")\n",
    "print(matrix)\n"
   ]
  },
  {
   "cell_type": "markdown",
   "id": "0090e435-0147-44b7-941a-879dfaef7359",
   "metadata": {},
   "source": [
    "                                                 Negative Predicted Class  |  Positive Predicted Class\n",
    "                                                 -----------------------------------------------------------------------------------\n",
    "                                                 Negative Real Class       |  2923 (True Negative)   306 (False Positive)\n",
    "                                                 Positive Real Class       |  472 (False Negative)   2789 (True Positive)\n"
   ]
  },
  {
   "cell_type": "markdown",
   "id": "548cb0ce-9bea-44ab-997b-83e5e92da29e",
   "metadata": {},
   "source": [
    "Here, the model is being trained based on the TF-IDF vectors of the training data **(X_train_transformed)** and their respective class labels **(y_train)**. The model will learn the relationship between the features extracted from the text and the label classes (offensive or non-offensive) during this training stage.\n",
    "\n",
    "After running this code snippet, the Multinomial Naive Bayes model will be trained and ready to make predictions on new texts, classifying them as offensive or non-offensive based on the patterns learned during training. This model is particularly suitable for text classification tasks and is widely used in natural language processing applications.\n"
   ]
  },
  {
   "cell_type": "markdown",
   "id": "bccb7b49-92d7-46e3-9282-f8830493fd3a",
   "metadata": {},
   "source": [
    "Ultimately, the evaluation of the model's performance entails the calculation of the confusion matrix. The confusion matrix provides insights into the number of predictions that were correctly classified (true positives and true negatives) and those that were incorrectly classified (false positives and false negatives). In this particular instance, the confusion matrix reveals the following results:\n",
    "\n",
    "- True Negatives (TN): 2,923\n",
    "- False Negatives (FN): 472\n",
    "- False Positives (FP): 306\n",
    "- True Positives (TP): 2,789\n",
    "\n",
    "These values elucidate the model's classification performance by indicating how well it correctly identifies instances of offensive and non-offensive comments."
   ]
  },
  {
   "cell_type": "code",
   "execution_count": 10,
   "id": "d0873d02-f5ac-44cb-ba92-37e81a92d9a1",
   "metadata": {},
   "outputs": [
    {
     "name": "stdout",
     "output_type": "stream",
     "text": [
      "              precision    recall  f1-score   support\n",
      "\n",
      "           0       0.86      0.91      0.88      3229\n",
      "           1       0.90      0.86      0.88      3261\n",
      "\n",
      "    accuracy                           0.88      6490\n",
      "   macro avg       0.88      0.88      0.88      6490\n",
      "weighted avg       0.88      0.88      0.88      6490\n",
      "\n"
     ]
    }
   ],
   "source": [
    "print(classification_report(y_test, y_pred))"
   ]
  },
  {
   "cell_type": "markdown",
   "id": "7c3bc18d-33de-460d-868b-ff99420223b8",
   "metadata": {
    "tags": []
   },
   "source": [
    "Using the **classification_report**, which provides detailed performance metrics of the classification model, the classification report displays the performance metrics of the Multinomial Naive Bayes classification model. From this report, we can interpret that:\n",
    "\n",
    "* **Precision:** Measures the proportion of positive examples correctly classified (true positives) relative to all predicted positive examples (true positives + false positives). For class 0 (non-offensive), the precision is 0.86, which means that 86% of examples predicted as non-offensive by the model are indeed non-offensive. For class 1 (offensive), the precision is 0.90, indicating that 90% of examples predicted as offensive are indeed offensive.\"\n",
    "\n",
    "* **Recall:** Measures the proportion of positive examples correctly classified (true positives) relative to all actual positive examples (true positives + false negatives). For class 0 (non-offensive), the recall is 0.91, indicating that the model correctly identified 91% of actual non-offensive examples. For class 1 (offensive), the recall is 0.86, meaning that the model correctly identified 86% of actual offensive examples.\n",
    "\n",
    "* **F1-Score:** Is a harmonic mean between precision and recall and is useful when there is an imbalance between classes. For both classes 0 and 1, the F1-Score is 0.88, indicating a good balance between precision and recall.\n",
    "\n",
    "* **Accuracy:** Represents the proportion of correct predictions (true positives + true negatives) relative to the total number of predictions. The overall accuracy of the model is 0.88, which indicates that 88% of the predictions are correct.\n",
    "\n",
    "* **Macro Average and Weighted Average:** These metrics are averages of the metrics (precision, recall, F1-score) calculated for each class. 'Macro Avg' assigns equal weight to all classes, while 'Weighted Avg' takes into account class imbalance by assigning weights according to the support of each class.\n"
   ]
  },
  {
   "cell_type": "markdown",
   "id": "97757379-d939-47d9-8915-70e193fa5cbe",
   "metadata": {},
   "source": [
    "### Submission of Data\n"
   ]
  },
  {
   "cell_type": "code",
   "execution_count": 11,
   "id": "2a9825b7-5759-4721-8b96-cce449b34b32",
   "metadata": {},
   "outputs": [
    {
     "name": "stdout",
     "output_type": "stream",
     "text": [
      "                                         comment_text                id  \\\n",
      "0   Yo bitch Ja Rule is more succesful then you'll...  00001cee341fdb12   \n",
      "1   == From RfC == \\n\\n The title is fine as it is...  0000247867823ef7   \n",
      "2   \" \\n\\n == Sources == \\n\\n * Zawe Ashton on Lap...  00013b17ad220c46   \n",
      "3   :If you have a look back at the source, the in...  00017563c3f7919a   \n",
      "4           I don't anonymously edit articles at all.  00017695ad8997eb   \n",
      "..                                                ...               ...   \n",
      "95  \" \\n\\n == Main towns that are not so main == \\...  0023f3f84f353bce   \n",
      "96  \" \\n\\n  my comments follow, bluewillow991967 -...  002586bdf3280356   \n",
      "97  \" \\n\\n == Halliday == \\n\\n Good to see another...  0025a91b6955f1a5   \n",
      "98  \" \\n ::: That Stephen Barrett is not Board Cer...  0025c49d87d9a18f   \n",
      "99                              Stone Sour sucks anus  00260d8dfcc29827   \n",
      "\n",
      "    toxic_probability  \n",
      "0            0.994258  \n",
      "1            0.111211  \n",
      "2            0.333601  \n",
      "3            0.079179  \n",
      "4            0.306432  \n",
      "..                ...  \n",
      "95           0.123786  \n",
      "96           0.040347  \n",
      "97           0.208194  \n",
      "98           0.137201  \n",
      "99           0.931785  \n",
      "\n",
      "[100 rows x 3 columns]\n"
     ]
    }
   ],
   "source": [
    "df_sub = pd.read_csv(r'C:\\Users\\lucas\\Downloads\\2023.1\\Intro Data Science\\EE1\\EE1 - Naive Bayes\\submission.csv')\n",
    "\n",
    "X_test_sub = vectorizer.transform(df_sub['comment_text'])\n",
    "\n",
    "proba_predictions = model.predict_proba(X_test_sub)\n",
    "\n",
    "df_sub['toxic_probability'] = proba_predictions[:, 1]  \n",
    "\n",
    "df_sub.to_csv(\"submission_with_probabilities.csv\", index=False)\n",
    "\n",
    "print(df_sub.head(100))"
   ]
  },
  {
   "cell_type": "markdown",
   "id": "2a32d43c-8e01-450e-95fb-2867fdc9fe34",
   "metadata": {},
   "source": [
    "The submission dataset is loaded from a CSV file using Pandas. Within this dataset, comments will be classified based on the trained model. The variable **p3** is then defined to represent the probability predictions generated for the transformed submission dataset (X_test) using the trained Multinomial Naive Bayes model (model). These probability predictions convey the model's assessment of the likelihood of each comment being categorized as either offensive or non-offensive."
   ]
  },
  {
   "cell_type": "markdown",
   "id": "14f866ef-981f-44de-bbc6-78c26762deda",
   "metadata": {},
   "source": [
    "### Adding the 'score' column with the probabilities"
   ]
  },
  {
   "cell_type": "code",
   "execution_count": 12,
   "id": "2d5dd42c-0ccb-4dfd-8b5c-92de0258feaf",
   "metadata": {},
   "outputs": [
    {
     "data": {
      "text/plain": [
       "153164"
      ]
     },
     "execution_count": 12,
     "metadata": {},
     "output_type": "execute_result"
    }
   ],
   "source": [
    "df_sub['score'] = proba_predictions[:, 1]\n",
    "df_sub['score'].count()"
   ]
  },
  {
   "cell_type": "markdown",
   "id": "4d305aa2-5ed6-4177-b00a-0d4dc90b2d22",
   "metadata": {},
   "source": [
    "A new column named 'score' is established in the DataFrame df_sub. This column is populated with the probabilities of being classified as class 1 (offensive), which were computed by the model. The notation **p3[:, 1]** is employed to access the probabilities associated with class 1 in the model's predictions. Consequently, 153,164 probabilities of being categorized as offensive (class 1) are generated for the comments contained in the submission dataset."
   ]
  },
  {
   "cell_type": "code",
   "execution_count": 13,
   "id": "22017f49-8aa3-40df-946b-252d64fc7a8f",
   "metadata": {},
   "outputs": [
    {
     "data": {
      "text/plain": [
       "148896"
      ]
     },
     "execution_count": 13,
     "metadata": {},
     "output_type": "execute_result"
    }
   ],
   "source": [
    "df_sub['score'].nunique()"
   ]
  },
  {
   "cell_type": "markdown",
   "id": "6e9fc657-65c2-443a-9278-96c979824355",
   "metadata": {},
   "source": [
    "The outcome of **df_sub['score'].nunique()** reveals that there are 148,896 distinct values in the 'score' column of the submission dataset **(df_sub)**. This indicates that the model's generated probabilities for being classified as offensive (class 1) exhibit a considerable degree of uniqueness for each comment within the submission dataset. This information provides valuable insights into the diversity of predicted probabilities offered by the model, underscoring the variability in the model's assessments across the comments in the submission dataset."
   ]
  },
  {
   "cell_type": "markdown",
   "id": "c244fc9e-289d-4d60-b805-865d2e0e9f53",
   "metadata": {},
   "source": [
    "**Dados Submetidos e Classificados**\n",
    "==========="
   ]
  },
  {
   "cell_type": "code",
   "execution_count": 14,
   "id": "8a1ae858-f300-44c6-b253-5324c2eccb95",
   "metadata": {},
   "outputs": [
    {
     "data": {
      "text/html": [
       "<div>\n",
       "<style scoped>\n",
       "    .dataframe tbody tr th:only-of-type {\n",
       "        vertical-align: middle;\n",
       "    }\n",
       "\n",
       "    .dataframe tbody tr th {\n",
       "        vertical-align: top;\n",
       "    }\n",
       "\n",
       "    .dataframe thead th {\n",
       "        text-align: right;\n",
       "    }\n",
       "</style>\n",
       "<table border=\"1\" class=\"dataframe\">\n",
       "  <thead>\n",
       "    <tr style=\"text-align: right;\">\n",
       "      <th></th>\n",
       "      <th>comment_text</th>\n",
       "      <th>id</th>\n",
       "      <th>toxic_probability</th>\n",
       "      <th>score</th>\n",
       "    </tr>\n",
       "  </thead>\n",
       "  <tbody>\n",
       "    <tr>\n",
       "      <th>0</th>\n",
       "      <td>Yo bitch Ja Rule is more succesful then you'll...</td>\n",
       "      <td>00001cee341fdb12</td>\n",
       "      <td>0.994258</td>\n",
       "      <td>0.994258</td>\n",
       "    </tr>\n",
       "    <tr>\n",
       "      <th>1</th>\n",
       "      <td>== From RfC == \\n\\n The title is fine as it is...</td>\n",
       "      <td>0000247867823ef7</td>\n",
       "      <td>0.111211</td>\n",
       "      <td>0.111211</td>\n",
       "    </tr>\n",
       "    <tr>\n",
       "      <th>2</th>\n",
       "      <td>\" \\n\\n == Sources == \\n\\n * Zawe Ashton on Lap...</td>\n",
       "      <td>00013b17ad220c46</td>\n",
       "      <td>0.333601</td>\n",
       "      <td>0.333601</td>\n",
       "    </tr>\n",
       "    <tr>\n",
       "      <th>3</th>\n",
       "      <td>:If you have a look back at the source, the in...</td>\n",
       "      <td>00017563c3f7919a</td>\n",
       "      <td>0.079179</td>\n",
       "      <td>0.079179</td>\n",
       "    </tr>\n",
       "    <tr>\n",
       "      <th>4</th>\n",
       "      <td>I don't anonymously edit articles at all.</td>\n",
       "      <td>00017695ad8997eb</td>\n",
       "      <td>0.306432</td>\n",
       "      <td>0.306432</td>\n",
       "    </tr>\n",
       "    <tr>\n",
       "      <th>...</th>\n",
       "      <td>...</td>\n",
       "      <td>...</td>\n",
       "      <td>...</td>\n",
       "      <td>...</td>\n",
       "    </tr>\n",
       "    <tr>\n",
       "      <th>95</th>\n",
       "      <td>\" \\n\\n == Main towns that are not so main == \\...</td>\n",
       "      <td>0023f3f84f353bce</td>\n",
       "      <td>0.123786</td>\n",
       "      <td>0.123786</td>\n",
       "    </tr>\n",
       "    <tr>\n",
       "      <th>96</th>\n",
       "      <td>\" \\n\\n  my comments follow, bluewillow991967 -...</td>\n",
       "      <td>002586bdf3280356</td>\n",
       "      <td>0.040347</td>\n",
       "      <td>0.040347</td>\n",
       "    </tr>\n",
       "    <tr>\n",
       "      <th>97</th>\n",
       "      <td>\" \\n\\n == Halliday == \\n\\n Good to see another...</td>\n",
       "      <td>0025a91b6955f1a5</td>\n",
       "      <td>0.208194</td>\n",
       "      <td>0.208194</td>\n",
       "    </tr>\n",
       "    <tr>\n",
       "      <th>98</th>\n",
       "      <td>\" \\n ::: That Stephen Barrett is not Board Cer...</td>\n",
       "      <td>0025c49d87d9a18f</td>\n",
       "      <td>0.137201</td>\n",
       "      <td>0.137201</td>\n",
       "    </tr>\n",
       "    <tr>\n",
       "      <th>99</th>\n",
       "      <td>Stone Sour sucks anus</td>\n",
       "      <td>00260d8dfcc29827</td>\n",
       "      <td>0.931785</td>\n",
       "      <td>0.931785</td>\n",
       "    </tr>\n",
       "  </tbody>\n",
       "</table>\n",
       "<p>100 rows × 4 columns</p>\n",
       "</div>"
      ],
      "text/plain": [
       "                                         comment_text                id  \\\n",
       "0   Yo bitch Ja Rule is more succesful then you'll...  00001cee341fdb12   \n",
       "1   == From RfC == \\n\\n The title is fine as it is...  0000247867823ef7   \n",
       "2   \" \\n\\n == Sources == \\n\\n * Zawe Ashton on Lap...  00013b17ad220c46   \n",
       "3   :If you have a look back at the source, the in...  00017563c3f7919a   \n",
       "4           I don't anonymously edit articles at all.  00017695ad8997eb   \n",
       "..                                                ...               ...   \n",
       "95  \" \\n\\n == Main towns that are not so main == \\...  0023f3f84f353bce   \n",
       "96  \" \\n\\n  my comments follow, bluewillow991967 -...  002586bdf3280356   \n",
       "97  \" \\n\\n == Halliday == \\n\\n Good to see another...  0025a91b6955f1a5   \n",
       "98  \" \\n ::: That Stephen Barrett is not Board Cer...  0025c49d87d9a18f   \n",
       "99                              Stone Sour sucks anus  00260d8dfcc29827   \n",
       "\n",
       "    toxic_probability     score  \n",
       "0            0.994258  0.994258  \n",
       "1            0.111211  0.111211  \n",
       "2            0.333601  0.333601  \n",
       "3            0.079179  0.079179  \n",
       "4            0.306432  0.306432  \n",
       "..                ...       ...  \n",
       "95           0.123786  0.123786  \n",
       "96           0.040347  0.040347  \n",
       "97           0.208194  0.208194  \n",
       "98           0.137201  0.137201  \n",
       "99           0.931785  0.931785  \n",
       "\n",
       "[100 rows x 4 columns]"
      ]
     },
     "execution_count": 14,
     "metadata": {},
     "output_type": "execute_result"
    }
   ],
   "source": [
    "df_sub[['comment_text', 'score']].to_csv(\"sample_submission.csv\", index=False)\n",
    "df_sub.head(100)"
   ]
  },
  {
   "cell_type": "markdown",
   "id": "a92869f7-76c8-4b41-8c54-c95c9c44bbc7",
   "metadata": {},
   "source": [
    "In this code snippet, I am exporting the **comment_text** and **score** columns from the submission dataset (df_sub) to a CSV file named **sample_submission.csv** using the to_csv() method to export the columns. The parameter **index=False** indicates that I don't want to include row indices in the CSV file."
   ]
  },
  {
   "cell_type": "markdown",
   "id": "8eca70a1-9356-4c43-8cec-6c2daa9d20dc",
   "metadata": {},
   "source": [
    "* Column 0 (Row Number): This column represents the row number in the dataset. It is not part of the original dataset but has been included in the visualization.\n",
    "* Column 1 (Comment Text): This column contains the text of the comments. It is the actual content of the comments that will be classified as offensive or non-offensive.\n",
    "* Column 2 (ID): This column contains unique identifiers associated with each comment. Each comment has a unique ID.\n",
    "* lumn 3 (Score): This column contains the probabilities of being classified as offensive (class 1) for each comment. "
   ]
  },
  {
   "cell_type": "markdown",
   "id": "b3484960-47f8-43d2-b2af-f5962269a583",
   "metadata": {},
   "source": [
    "***\n",
    "\n",
    "**Conclusion**\n",
    "==========="
   ]
  },
  {
   "cell_type": "markdown",
   "id": "6c9794de-7681-49e9-8586-00a12720fbb5",
   "metadata": {},
   "source": [
    "Based on the obtained results, it is evident that the trained classification model is highly proficient in the task of discerning offensive comments. The utilization of the TF-IDF text vectorization technique has proven to be an effective strategy for representing comments in a numerical format, facilitating the model's classification process.\n",
    "\n",
    "Performance metrics, including precision, recall, and F1-score, indicate a commendable equilibrium in the model's capacity to accurately categorize offensive and non-offensive comments. Striking this balance is pivotal, particularly in online content moderation scenarios, where minimizing both false positives and false negatives holds significant importance.\n",
    "\n",
    "The practical applicability of this approach is extensive, encompassing the automated identification of offensive comments across online platforms, social media networks, and forums. It serves as a valuable tool for content moderation.\n",
    "\n",
    "Nevertheless, it is imperative to underscore that when deploying this model in real-world settings, establishing a probability threshold for comment classification (offensive or non-offensive) will be necessary, with adjustments tailored to the specific requisites of the application.\n",
    "\n",
    "In summary, this project showcases the viability of constructing a robust classification model for the identification of offensive comments, offering potential utility in a wide array of contexts where content moderation plays a pivotal role. The model's adaptability enables configuration and optimization to align with the distinctive demands of each application."
   ]
  },
  {
   "cell_type": "code",
   "execution_count": null,
   "id": "2bc2722d-3b50-4ecd-b6b3-bd91f53c95c4",
   "metadata": {},
   "outputs": [],
   "source": []
  }
 ],
 "metadata": {
  "kernelspec": {
   "display_name": "Python 3 (ipykernel)",
   "language": "python",
   "name": "python3"
  },
  "language_info": {
   "codemirror_mode": {
    "name": "ipython",
    "version": 3
   },
   "file_extension": ".py",
   "mimetype": "text/x-python",
   "name": "python",
   "nbconvert_exporter": "python",
   "pygments_lexer": "ipython3",
   "version": "3.10.9"
  }
 },
 "nbformat": 4,
 "nbformat_minor": 5
}
